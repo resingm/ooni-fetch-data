{
 "cells": [
  {
   "cell_type": "code",
   "execution_count": 3,
   "id": "f2f29adb-84d0-411f-b5ba-e095a0193a57",
   "metadata": {},
   "outputs": [],
   "source": [
    "# 1st party imports\n",
    "from datetime import date, datetime, timedelta\n",
    "import gzip\n",
    "import io\n",
    "\n",
    "# 3rd party imports\n",
    "import boto3\n",
    "from botocore import UNSIGNED\n",
    "from botocore.config import Config\n",
    "# import pandas as pd\n",
    "import polars as pl\n",
    "\n",
    "# pd.options.mode.chained_assignment = None\n",
    "\n"
   ]
  },
  {
   "cell_type": "code",
   "execution_count": 4,
   "id": "0d408a2b-aafd-4f5d-8edc-ab579e30e0da",
   "metadata": {},
   "outputs": [],
   "source": [
    "S3_BUCKET = \"ooni-data-eu-fra\"\n",
    "S3_PREFIX = \"raw\"\n",
    "\n",
    "def build_prefix(\n",
    "    timestamp: datetime,\n",
    "    cc: str,\n",
    "    test: str = \"webconnectivity\",\n",
    ") -> str:\n",
    "    \"\"\"Build the S3 prefix\"\"\"\n",
    "    yyyy = f\"{timestamp.year:04d}\"\n",
    "    mm = f\"{timestamp.month:02d}\"\n",
    "    dd = f\"{timestamp.day:02d}\"\n",
    "    hh = f\"{timestamp.hour:02d}\"\n",
    "    cc = cc.upper()\n",
    "    test = test.lower()\n",
    "    # return f\"s3://{S3_BUCKET}/{S3_PREFIX}/{yyyy}{mm}{dd}/{hh}/{cc}/{test}/\"\n",
    "    return f\"{S3_PREFIX}/{yyyy}{mm}{dd}/{hh}/{cc}/{test}/\"\n",
    "\n"
   ]
  },
  {
   "cell_type": "code",
   "execution_count": 24,
   "id": "c5a615ec-dd3a-44a1-9211-6db4dcc97580",
   "metadata": {},
   "outputs": [
    {
     "name": "stdout",
     "output_type": "stream",
     "text": [
      "s3://ooni-data-eu-fra/raw/20230105/10/RU/webconnectivity/2023010510_RU_webconnectivity.n1.0.jsonl.gz\n",
      "s3://ooni-data-eu-fra/raw/20230105/10/RU/webconnectivity/2023010510_RU_webconnectivity.n1.1.jsonl.gz\n",
      "s3://ooni-data-eu-fra/raw/20230105/10/RU/webconnectivity/2023010510_RU_webconnectivity.n1.2.jsonl.gz\n"
     ]
    }
   ],
   "source": [
    "ts = datetime(year=2023, month=1, day=5, hour=10)\n",
    "s3_prefix = build_prefix(ts, \"ru\")\n",
    "\n",
    "aws_config = Config(signature_version=UNSIGNED)\n",
    "# s3 = boto3.client('s3', config=aws_config)\n",
    "# objs = s3.list_objects_v2(Bucket=S3_BUCKET, Prefix=s3_prefix)\n",
    "\n",
    "s3 = boto3.resource('s3', config=aws_config)\n",
    "s3_bucket = s3.Bucket(S3_BUCKET)\n",
    "objs = s3_bucket.objects.filter(Prefix=s3_prefix)\n",
    "objs = filter(lambda o: o.key.endswith(\".jsonl.gz\"), objs)\n",
    "\n",
    "o = next(objs)\n",
    "\n",
    "# for o in objs:\n",
    "#     print(f\"s3://{o.bucket_name}/{o.key}\")\n",
    "\n",
    "buf = io.BytesIO(gzip.decompress(o.get()['Body'].read()))\n"
   ]
  },
  {
   "cell_type": "code",
   "execution_count": 27,
   "id": "57707509-a213-4f8a-887a-3f052a9869bd",
   "metadata": {},
   "outputs": [
    {
     "name": "stderr",
     "output_type": "stream",
     "text": [
      "thread '<unnamed>' panicked at 'index out of bounds: the len is 0 but the index is 0', /home/runner/work/polars/polars/polars/polars-io/src/ndjson_core/buffer.rs:171:41\n"
     ]
    },
    {
     "ename": "PanicException",
     "evalue": "index out of bounds: the len is 0 but the index is 0",
     "output_type": "error",
     "traceback": [
      "\u001b[0;31m---------------------------------------------------------------------------\u001b[0m",
      "\u001b[0;31mPanicException\u001b[0m                            Traceback (most recent call last)",
      "Input \u001b[0;32mIn [27]\u001b[0m, in \u001b[0;36m<cell line: 12>\u001b[0;34m()\u001b[0m\n\u001b[1;32m      1\u001b[0m \u001b[38;5;66;03m# df = pl.scan_ndjson(\u001b[39;00m\n\u001b[1;32m      2\u001b[0m \u001b[38;5;66;03m#     buf,\u001b[39;00m\n\u001b[1;32m      3\u001b[0m \u001b[38;5;66;03m#     n_rows=4,\u001b[39;00m\n\u001b[0;32m   (...)\u001b[0m\n\u001b[1;32m      8\u001b[0m \n\u001b[1;32m      9\u001b[0m \u001b[38;5;66;03m# len(lines)\u001b[39;00m\n\u001b[1;32m     11\u001b[0m local_file \u001b[38;5;241m=\u001b[39m \u001b[38;5;124m\"\u001b[39m\u001b[38;5;124m/home/max/workspace/de/maxresing/ooni-dashboard/data/2023010510_RU_webconnectivity.n1.0.jsonl\u001b[39m\u001b[38;5;124m\"\u001b[39m\n\u001b[0;32m---> 12\u001b[0m df \u001b[38;5;241m=\u001b[39m \u001b[43mpl\u001b[49m\u001b[38;5;241;43m.\u001b[39;49m\u001b[43mread_ndjson\u001b[49m\u001b[43m(\u001b[49m\n\u001b[1;32m     13\u001b[0m \u001b[43m    \u001b[49m\u001b[43mlocal_file\u001b[49m\n\u001b[1;32m     14\u001b[0m \u001b[43m)\u001b[49m\n\u001b[1;32m     16\u001b[0m df\n",
      "File \u001b[0;32m~/.local/lib/python3.10/site-packages/polars/io.py:1017\u001b[0m, in \u001b[0;36mread_ndjson\u001b[0;34m(file)\u001b[0m\n\u001b[1;32m   1007\u001b[0m \u001b[38;5;28;01mdef\u001b[39;00m \u001b[38;5;21mread_ndjson\u001b[39m(file: \u001b[38;5;28mstr\u001b[39m \u001b[38;5;241m|\u001b[39m Path \u001b[38;5;241m|\u001b[39m IOBase) \u001b[38;5;241m-\u001b[39m\u001b[38;5;241m>\u001b[39m DataFrame:\n\u001b[1;32m   1008\u001b[0m     \u001b[38;5;124;03m\"\"\"\u001b[39;00m\n\u001b[1;32m   1009\u001b[0m \u001b[38;5;124;03m    Read into a DataFrame from a newline delimited JSON file.\u001b[39;00m\n\u001b[1;32m   1010\u001b[0m \n\u001b[0;32m   (...)\u001b[0m\n\u001b[1;32m   1015\u001b[0m \n\u001b[1;32m   1016\u001b[0m \u001b[38;5;124;03m    \"\"\"\u001b[39;00m\n\u001b[0;32m-> 1017\u001b[0m     \u001b[38;5;28;01mreturn\u001b[39;00m \u001b[43mDataFrame\u001b[49m\u001b[38;5;241;43m.\u001b[39;49m\u001b[43m_read_ndjson\u001b[49m\u001b[43m(\u001b[49m\u001b[43mfile\u001b[49m\u001b[43m)\u001b[49m\n",
      "File \u001b[0;32m~/.local/lib/python3.10/site-packages/polars/internals/dataframe/frame.py:834\u001b[0m, in \u001b[0;36mDataFrame._read_ndjson\u001b[0;34m(cls, file)\u001b[0m\n\u001b[1;32m    831\u001b[0m     file \u001b[38;5;241m=\u001b[39m format_path(file)\n\u001b[1;32m    833\u001b[0m \u001b[38;5;28mself\u001b[39m \u001b[38;5;241m=\u001b[39m \u001b[38;5;28mcls\u001b[39m\u001b[38;5;241m.\u001b[39m\u001b[38;5;21m__new__\u001b[39m(\u001b[38;5;28mcls\u001b[39m)\n\u001b[0;32m--> 834\u001b[0m \u001b[38;5;28mself\u001b[39m\u001b[38;5;241m.\u001b[39m_df \u001b[38;5;241m=\u001b[39m \u001b[43mPyDataFrame\u001b[49m\u001b[38;5;241;43m.\u001b[39;49m\u001b[43mread_ndjson\u001b[49m\u001b[43m(\u001b[49m\u001b[43mfile\u001b[49m\u001b[43m)\u001b[49m\n\u001b[1;32m    835\u001b[0m \u001b[38;5;28;01mreturn\u001b[39;00m \u001b[38;5;28mself\u001b[39m\n",
      "\u001b[0;31mPanicException\u001b[0m: index out of bounds: the len is 0 but the index is 0"
     ]
    }
   ],
   "source": [
    "# df = pl.scan_ndjson(\n",
    "#     buf,\n",
    "#     n_rows=4,\n",
    "#     low_memory=False,\n",
    "# )\n",
    "\n",
    "# lines = buf.readlines()\n",
    "\n",
    "# len(lines)\n",
    "\n",
    "local_file = \"/home/max/workspace/de/maxresing/ooni-dashboard/data/2023010510_RU_webconnectivity.n1.0.jsonl\"\n",
    "df = pl.read_ndjson(\n",
    "    local_file\n",
    ")\n",
    "\n",
    "df\n",
    "    \n",
    "\n",
    "\n",
    "\n"
   ]
  },
  {
   "cell_type": "code",
   "execution_count": null,
   "id": "ff670cf5-f52b-478c-a873-66bf26b453d9",
   "metadata": {},
   "outputs": [],
   "source": [
    "\n",
    "df = pl.read_json(\n",
    "    buf,\n",
    "    json_lines=True,\n",
    ").lazy()\n",
    "\n",
    "\"\"\"\n",
    "df = pd.read_json(\n",
    "    o.get()['Body'],\n",
    "    lines=True,\n",
    "    compression='gzip',\n",
    ")\n",
    "df = df[0:3]\n",
    "\"\"\"\n",
    "df"
   ]
  }
 ],
 "metadata": {
  "kernelspec": {
   "display_name": "Python 3 (ipykernel)",
   "language": "python",
   "name": "python3"
  },
  "language_info": {
   "codemirror_mode": {
    "name": "ipython",
    "version": 3
   },
   "file_extension": ".py",
   "mimetype": "text/x-python",
   "name": "python",
   "nbconvert_exporter": "python",
   "pygments_lexer": "ipython3",
   "version": "3.10.9"
  }
 },
 "nbformat": 4,
 "nbformat_minor": 5
}
